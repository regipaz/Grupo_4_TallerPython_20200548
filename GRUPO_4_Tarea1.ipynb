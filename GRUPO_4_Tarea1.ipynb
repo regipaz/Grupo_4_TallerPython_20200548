{
  "nbformat": 4,
  "nbformat_minor": 0,
  "metadata": {
    "colab": {
      "provenance": [],
      "include_colab_link": true
    },
    "kernelspec": {
      "name": "python3",
      "display_name": "Python 3"
    },
    "language_info": {
      "name": "python"
    }
  },
  "cells": [
    {
      "cell_type": "markdown",
      "metadata": {
        "id": "view-in-github",
        "colab_type": "text"
      },
      "source": [
        "<a href=\"https://colab.research.google.com/github/regipaz/Grupo_4_TallerPython_20200548/blob/main/GRUPO_4_Tarea1.ipynb\" target=\"_parent\"><img src=\"https://colab.research.google.com/assets/colab-badge.svg\" alt=\"Open In Colab\"/></a>"
      ]
    },
    {
      "cell_type": "code",
      "execution_count": null,
      "metadata": {
        "colab": {
          "base_uri": "https://localhost:8080/"
        },
        "id": "eCRnsRovpA94",
        "outputId": "ee6ae827-6071-4208-889d-9a4d5c4aeac3"
      },
      "outputs": [
        {
          "output_type": "stream",
          "name": "stdout",
          "text": [
            "Es múltiplo de 3\n"
          ]
        }
      ],
      "source": [
        "#PREGUNTA 1\n",
        "#Primero va el if de múltiplos de 2 y 3 para no cancelar de golpe si es que no es 2 o 3.\n",
        "\n",
        "x=3\n",
        "\n",
        "if x%2==0 and x%3==0:\n",
        "  print(\"Es múltiplo de 2 y de 3\")\n",
        "\n",
        "elif x%2==0:\n",
        "  print(\"Es múltiplo de 2\")\n",
        "\n",
        "elif x%3==0:\n",
        "  print(\"Es múltiplo de 3\")\n",
        "\n",
        "else:\n",
        "  print(\"Otro caso\")"
      ]
    },
    {
      "cell_type": "code",
      "source": [
        "#PREGUNTA 2\n",
        "\n",
        "for x in range(1, 100):\n",
        "  if x%3==0 and x%5==0:\n",
        "    print(\"FizzBuzz\")\n",
        "  elif x% 3==0:\n",
        "    print(\"Fizz\")\n",
        "  elif x%5==0:\n",
        "    print(\"Buzz\")\n",
        "  else:\n",
        "    print(x)"
      ],
      "metadata": {
        "id": "h-bQxc5vt1Vh"
      },
      "execution_count": null,
      "outputs": []
    },
    {
      "cell_type": "code",
      "source": [
        "#Pregunta 3\n",
        "def calcular_descuento(total):\n",
        "    if total >= 1000:\n",
        "        descuento = 0.20\n",
        "    elif total >= 500:\n",
        "        descuento = 0.10\n",
        "    else:\n",
        "        descuento = 0.0\n",
        "\n",
        "    total_final = total * (1 - descuento)\n",
        "    return total_final"
      ],
      "metadata": {
        "id": "zSSSkz2Iu5m1"
      },
      "execution_count": null,
      "outputs": []
    },
    {
      "cell_type": "code",
      "source": [
        "calcular_descuento(1200)"
      ],
      "metadata": {
        "colab": {
          "base_uri": "https://localhost:8080/"
        },
        "id": "7pbQ5wD6vXOb",
        "outputId": "f2c1150e-0741-41b3-f7cd-b9c2a70c2966"
      },
      "execution_count": null,
      "outputs": [
        {
          "output_type": "execute_result",
          "data": {
            "text/plain": [
              "960.0"
            ]
          },
          "metadata": {},
          "execution_count": 7
        }
      ]
    },
    {
      "cell_type": "code",
      "source": [
        "calcular_descuento(750)"
      ],
      "metadata": {
        "colab": {
          "base_uri": "https://localhost:8080/"
        },
        "id": "iMMm-8luvuZR",
        "outputId": "b8100dd7-ee65-4abc-d417-da29ba8f055f"
      },
      "execution_count": null,
      "outputs": [
        {
          "output_type": "execute_result",
          "data": {
            "text/plain": [
              "675.0"
            ]
          },
          "metadata": {},
          "execution_count": 8
        }
      ]
    },
    {
      "cell_type": "code",
      "source": [
        "calcular_descuento(300)"
      ],
      "metadata": {
        "id": "F57xtboZwyEQ",
        "outputId": "44785f8f-c297-4511-b2e2-014771fdf081",
        "colab": {
          "base_uri": "https://localhost:8080/"
        }
      },
      "execution_count": null,
      "outputs": [
        {
          "output_type": "execute_result",
          "data": {
            "text/plain": [
              "300.0"
            ]
          },
          "metadata": {},
          "execution_count": 9
        }
      ]
    },
    {
      "cell_type": "markdown",
      "source": [],
      "metadata": {
        "id": "4E6uvBHvMJZb"
      }
    },
    {
      "cell_type": "code",
      "source": [
        "#Pregunta 4\n",
        "def clasificar_edad(edad):\n",
        "    if edad < 12:\n",
        "        return \"Niño\"\n",
        "    elif 12 <= edad <= 17:\n",
        "        return \"Adolescente\"\n",
        "    elif 18 <= edad <= 24:\n",
        "        return \"Joven\"\n",
        "    elif 25 <= edad <= 64:\n",
        "        return \"Adulto\"\n",
        "    else:\n",
        "        return \"Adulto Mayor\"\n"
      ],
      "metadata": {
        "id": "EBnlL9GtAEk1"
      },
      "execution_count": null,
      "outputs": []
    },
    {
      "cell_type": "code",
      "source": [
        "clasificar_edad(10)"
      ],
      "metadata": {
        "colab": {
          "base_uri": "https://localhost:8080/",
          "height": 35
        },
        "id": "04SHZFoTAHSV",
        "outputId": "edc12ad3-7c1c-4189-d242-5dd34639beb2"
      },
      "execution_count": null,
      "outputs": [
        {
          "output_type": "execute_result",
          "data": {
            "text/plain": [
              "'Niño'"
            ],
            "application/vnd.google.colaboratory.intrinsic+json": {
              "type": "string"
            }
          },
          "metadata": {},
          "execution_count": 23
        }
      ]
    },
    {
      "cell_type": "code",
      "source": [
        "clasificar_edad(19)"
      ],
      "metadata": {
        "colab": {
          "base_uri": "https://localhost:8080/",
          "height": 35
        },
        "id": "79qoGv_PASaX",
        "outputId": "b7e68130-7e0f-4454-b8a5-f3936c872854"
      },
      "execution_count": null,
      "outputs": [
        {
          "output_type": "execute_result",
          "data": {
            "text/plain": [
              "'Joven'"
            ],
            "application/vnd.google.colaboratory.intrinsic+json": {
              "type": "string"
            }
          },
          "metadata": {},
          "execution_count": 24
        }
      ]
    },
    {
      "cell_type": "code",
      "source": [
        "clasificar_edad(25)"
      ],
      "metadata": {
        "colab": {
          "base_uri": "https://localhost:8080/",
          "height": 35
        },
        "id": "hoYexuNuAaF8",
        "outputId": "a0e7d3a3-c72e-4298-815c-03c3d8da00db"
      },
      "execution_count": null,
      "outputs": [
        {
          "output_type": "execute_result",
          "data": {
            "text/plain": [
              "'Adulto'"
            ],
            "application/vnd.google.colaboratory.intrinsic+json": {
              "type": "string"
            }
          },
          "metadata": {},
          "execution_count": 25
        }
      ]
    },
    {
      "cell_type": "code",
      "source": [
        "clasificar_edad(70)"
      ],
      "metadata": {
        "colab": {
          "base_uri": "https://localhost:8080/",
          "height": 35
        },
        "id": "w5ooMnFqAeL-",
        "outputId": "03d45ae3-2592-4c48-f5da-3287916a64e9"
      },
      "execution_count": null,
      "outputs": [
        {
          "output_type": "execute_result",
          "data": {
            "text/plain": [
              "'Adulto Mayor'"
            ],
            "application/vnd.google.colaboratory.intrinsic+json": {
              "type": "string"
            }
          },
          "metadata": {},
          "execution_count": 26
        }
      ]
    },
    {
      "cell_type": "code",
      "source": [
        "## PREGUNTA 5\n",
        "\"\"\" La funcion toma los tres inputs: media personal, media del curso y desviación estándar del curso. Inmediatamente retorna el CRAEST\n",
        "mediante la fórmula. \"\"\"\n",
        "\n",
        "def calcular_craest(media_personal, media_curso, desviacion_curso):\n",
        "    return ((media_personal-media_curso)*10)/desviacion_curso + 50\n",
        "\n",
        "#Ejemplo:\n",
        "print(calcular_craest(14,15,3.5))"
      ],
      "metadata": {
        "colab": {
          "base_uri": "https://localhost:8080/"
        },
        "id": "wPoVyZps1CT5",
        "outputId": "a7c7b19c-3b12-485a-eeac-167b20c4c35d"
      },
      "execution_count": null,
      "outputs": [
        {
          "output_type": "stream",
          "name": "stdout",
          "text": [
            "47.142857142857146\n"
          ]
        }
      ]
    }
  ]
}